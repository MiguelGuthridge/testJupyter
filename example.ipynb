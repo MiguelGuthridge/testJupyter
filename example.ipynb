{
 "cells": [
  {
   "cell_type": "code",
   "execution_count": 2,
   "metadata": {},
   "outputs": [
    {
     "name": "stdout",
     "output_type": "stream",
     "text": [
      "You entered Hello\n",
      "You entered Goodbye\n",
      "You entered Example\n",
      "You entered Huh\n",
      "You entered It's not happening anymore\n",
      "You entered Oh now it's happening\n",
      "You entered Yep it's one step behind now\n",
      "You entered See\n",
      "You entered Now it's caught up\n",
      "Goodbye\n"
     ]
    }
   ],
   "source": [
    "while True:\n",
    "    text = input(\"Enter some text\")\n",
    "    if text == '':\n",
    "        print(\"Goodbye\")\n",
    "        break\n",
    "    print(f\"You entered {text}\")"
   ]
  }
 ],
 "metadata": {
  "kernelspec": {
   "display_name": ".venv",
   "language": "python",
   "name": "python3"
  },
  "language_info": {
   "codemirror_mode": {
    "name": "ipython",
    "version": 3
   },
   "file_extension": ".py",
   "mimetype": "text/x-python",
   "name": "python",
   "nbconvert_exporter": "python",
   "pygments_lexer": "ipython3",
   "version": "3.11.2"
  },
  "orig_nbformat": 4
 },
 "nbformat": 4,
 "nbformat_minor": 2
}
